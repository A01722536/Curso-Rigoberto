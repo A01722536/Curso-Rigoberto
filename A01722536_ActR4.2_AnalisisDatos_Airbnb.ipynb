{
 "cells": [
  {
   "cell_type": "code",
   "execution_count": 1,
   "metadata": {},
   "outputs": [
    {
     "ename": "FileNotFoundError",
     "evalue": "[Errno 2] No such file or directory: 'Cambridge.csv'",
     "output_type": "error",
     "traceback": [
      "\u001b[0;31m---------------------------------------------------------------------------\u001b[0m",
      "\u001b[0;31mFileNotFoundError\u001b[0m                         Traceback (most recent call last)",
      "Cell \u001b[0;32mIn[1], line 3\u001b[0m\n\u001b[1;32m      1\u001b[0m \u001b[38;5;28;01mimport\u001b[39;00m\u001b[38;5;250m \u001b[39m\u001b[38;5;21;01mpandas\u001b[39;00m\u001b[38;5;250m \u001b[39m\u001b[38;5;28;01mas\u001b[39;00m\u001b[38;5;250m \u001b[39m\u001b[38;5;21;01mpd\u001b[39;00m\n\u001b[0;32m----> 3\u001b[0m airbnb \u001b[38;5;241m=\u001b[39m \u001b[43mpd\u001b[49m\u001b[38;5;241;43m.\u001b[39;49m\u001b[43mread_csv\u001b[49m\u001b[43m(\u001b[49m\u001b[38;5;124;43m'\u001b[39;49m\u001b[38;5;124;43mCambridge.csv\u001b[39;49m\u001b[38;5;124;43m'\u001b[39;49m\u001b[43m)\u001b[49m\n\u001b[1;32m      4\u001b[0m airbnb\u001b[38;5;241m.\u001b[39mhead()\n",
      "File \u001b[0;32m/Library/Frameworks/Python.framework/Versions/3.13/lib/python3.13/site-packages/pandas/io/parsers/readers.py:1026\u001b[0m, in \u001b[0;36mread_csv\u001b[0;34m(filepath_or_buffer, sep, delimiter, header, names, index_col, usecols, dtype, engine, converters, true_values, false_values, skipinitialspace, skiprows, skipfooter, nrows, na_values, keep_default_na, na_filter, verbose, skip_blank_lines, parse_dates, infer_datetime_format, keep_date_col, date_parser, date_format, dayfirst, cache_dates, iterator, chunksize, compression, thousands, decimal, lineterminator, quotechar, quoting, doublequote, escapechar, comment, encoding, encoding_errors, dialect, on_bad_lines, delim_whitespace, low_memory, memory_map, float_precision, storage_options, dtype_backend)\u001b[0m\n\u001b[1;32m   1013\u001b[0m kwds_defaults \u001b[38;5;241m=\u001b[39m _refine_defaults_read(\n\u001b[1;32m   1014\u001b[0m     dialect,\n\u001b[1;32m   1015\u001b[0m     delimiter,\n\u001b[0;32m   (...)\u001b[0m\n\u001b[1;32m   1022\u001b[0m     dtype_backend\u001b[38;5;241m=\u001b[39mdtype_backend,\n\u001b[1;32m   1023\u001b[0m )\n\u001b[1;32m   1024\u001b[0m kwds\u001b[38;5;241m.\u001b[39mupdate(kwds_defaults)\n\u001b[0;32m-> 1026\u001b[0m \u001b[38;5;28;01mreturn\u001b[39;00m \u001b[43m_read\u001b[49m\u001b[43m(\u001b[49m\u001b[43mfilepath_or_buffer\u001b[49m\u001b[43m,\u001b[49m\u001b[43m \u001b[49m\u001b[43mkwds\u001b[49m\u001b[43m)\u001b[49m\n",
      "File \u001b[0;32m/Library/Frameworks/Python.framework/Versions/3.13/lib/python3.13/site-packages/pandas/io/parsers/readers.py:620\u001b[0m, in \u001b[0;36m_read\u001b[0;34m(filepath_or_buffer, kwds)\u001b[0m\n\u001b[1;32m    617\u001b[0m _validate_names(kwds\u001b[38;5;241m.\u001b[39mget(\u001b[38;5;124m\"\u001b[39m\u001b[38;5;124mnames\u001b[39m\u001b[38;5;124m\"\u001b[39m, \u001b[38;5;28;01mNone\u001b[39;00m))\n\u001b[1;32m    619\u001b[0m \u001b[38;5;66;03m# Create the parser.\u001b[39;00m\n\u001b[0;32m--> 620\u001b[0m parser \u001b[38;5;241m=\u001b[39m \u001b[43mTextFileReader\u001b[49m\u001b[43m(\u001b[49m\u001b[43mfilepath_or_buffer\u001b[49m\u001b[43m,\u001b[49m\u001b[43m \u001b[49m\u001b[38;5;241;43m*\u001b[39;49m\u001b[38;5;241;43m*\u001b[39;49m\u001b[43mkwds\u001b[49m\u001b[43m)\u001b[49m\n\u001b[1;32m    622\u001b[0m \u001b[38;5;28;01mif\u001b[39;00m chunksize \u001b[38;5;129;01mor\u001b[39;00m iterator:\n\u001b[1;32m    623\u001b[0m     \u001b[38;5;28;01mreturn\u001b[39;00m parser\n",
      "File \u001b[0;32m/Library/Frameworks/Python.framework/Versions/3.13/lib/python3.13/site-packages/pandas/io/parsers/readers.py:1620\u001b[0m, in \u001b[0;36mTextFileReader.__init__\u001b[0;34m(self, f, engine, **kwds)\u001b[0m\n\u001b[1;32m   1617\u001b[0m     \u001b[38;5;28mself\u001b[39m\u001b[38;5;241m.\u001b[39moptions[\u001b[38;5;124m\"\u001b[39m\u001b[38;5;124mhas_index_names\u001b[39m\u001b[38;5;124m\"\u001b[39m] \u001b[38;5;241m=\u001b[39m kwds[\u001b[38;5;124m\"\u001b[39m\u001b[38;5;124mhas_index_names\u001b[39m\u001b[38;5;124m\"\u001b[39m]\n\u001b[1;32m   1619\u001b[0m \u001b[38;5;28mself\u001b[39m\u001b[38;5;241m.\u001b[39mhandles: IOHandles \u001b[38;5;241m|\u001b[39m \u001b[38;5;28;01mNone\u001b[39;00m \u001b[38;5;241m=\u001b[39m \u001b[38;5;28;01mNone\u001b[39;00m\n\u001b[0;32m-> 1620\u001b[0m \u001b[38;5;28mself\u001b[39m\u001b[38;5;241m.\u001b[39m_engine \u001b[38;5;241m=\u001b[39m \u001b[38;5;28;43mself\u001b[39;49m\u001b[38;5;241;43m.\u001b[39;49m\u001b[43m_make_engine\u001b[49m\u001b[43m(\u001b[49m\u001b[43mf\u001b[49m\u001b[43m,\u001b[49m\u001b[43m \u001b[49m\u001b[38;5;28;43mself\u001b[39;49m\u001b[38;5;241;43m.\u001b[39;49m\u001b[43mengine\u001b[49m\u001b[43m)\u001b[49m\n",
      "File \u001b[0;32m/Library/Frameworks/Python.framework/Versions/3.13/lib/python3.13/site-packages/pandas/io/parsers/readers.py:1880\u001b[0m, in \u001b[0;36mTextFileReader._make_engine\u001b[0;34m(self, f, engine)\u001b[0m\n\u001b[1;32m   1878\u001b[0m     \u001b[38;5;28;01mif\u001b[39;00m \u001b[38;5;124m\"\u001b[39m\u001b[38;5;124mb\u001b[39m\u001b[38;5;124m\"\u001b[39m \u001b[38;5;129;01mnot\u001b[39;00m \u001b[38;5;129;01min\u001b[39;00m mode:\n\u001b[1;32m   1879\u001b[0m         mode \u001b[38;5;241m+\u001b[39m\u001b[38;5;241m=\u001b[39m \u001b[38;5;124m\"\u001b[39m\u001b[38;5;124mb\u001b[39m\u001b[38;5;124m\"\u001b[39m\n\u001b[0;32m-> 1880\u001b[0m \u001b[38;5;28mself\u001b[39m\u001b[38;5;241m.\u001b[39mhandles \u001b[38;5;241m=\u001b[39m \u001b[43mget_handle\u001b[49m\u001b[43m(\u001b[49m\n\u001b[1;32m   1881\u001b[0m \u001b[43m    \u001b[49m\u001b[43mf\u001b[49m\u001b[43m,\u001b[49m\n\u001b[1;32m   1882\u001b[0m \u001b[43m    \u001b[49m\u001b[43mmode\u001b[49m\u001b[43m,\u001b[49m\n\u001b[1;32m   1883\u001b[0m \u001b[43m    \u001b[49m\u001b[43mencoding\u001b[49m\u001b[38;5;241;43m=\u001b[39;49m\u001b[38;5;28;43mself\u001b[39;49m\u001b[38;5;241;43m.\u001b[39;49m\u001b[43moptions\u001b[49m\u001b[38;5;241;43m.\u001b[39;49m\u001b[43mget\u001b[49m\u001b[43m(\u001b[49m\u001b[38;5;124;43m\"\u001b[39;49m\u001b[38;5;124;43mencoding\u001b[39;49m\u001b[38;5;124;43m\"\u001b[39;49m\u001b[43m,\u001b[49m\u001b[43m \u001b[49m\u001b[38;5;28;43;01mNone\u001b[39;49;00m\u001b[43m)\u001b[49m\u001b[43m,\u001b[49m\n\u001b[1;32m   1884\u001b[0m \u001b[43m    \u001b[49m\u001b[43mcompression\u001b[49m\u001b[38;5;241;43m=\u001b[39;49m\u001b[38;5;28;43mself\u001b[39;49m\u001b[38;5;241;43m.\u001b[39;49m\u001b[43moptions\u001b[49m\u001b[38;5;241;43m.\u001b[39;49m\u001b[43mget\u001b[49m\u001b[43m(\u001b[49m\u001b[38;5;124;43m\"\u001b[39;49m\u001b[38;5;124;43mcompression\u001b[39;49m\u001b[38;5;124;43m\"\u001b[39;49m\u001b[43m,\u001b[49m\u001b[43m \u001b[49m\u001b[38;5;28;43;01mNone\u001b[39;49;00m\u001b[43m)\u001b[49m\u001b[43m,\u001b[49m\n\u001b[1;32m   1885\u001b[0m \u001b[43m    \u001b[49m\u001b[43mmemory_map\u001b[49m\u001b[38;5;241;43m=\u001b[39;49m\u001b[38;5;28;43mself\u001b[39;49m\u001b[38;5;241;43m.\u001b[39;49m\u001b[43moptions\u001b[49m\u001b[38;5;241;43m.\u001b[39;49m\u001b[43mget\u001b[49m\u001b[43m(\u001b[49m\u001b[38;5;124;43m\"\u001b[39;49m\u001b[38;5;124;43mmemory_map\u001b[39;49m\u001b[38;5;124;43m\"\u001b[39;49m\u001b[43m,\u001b[49m\u001b[43m \u001b[49m\u001b[38;5;28;43;01mFalse\u001b[39;49;00m\u001b[43m)\u001b[49m\u001b[43m,\u001b[49m\n\u001b[1;32m   1886\u001b[0m \u001b[43m    \u001b[49m\u001b[43mis_text\u001b[49m\u001b[38;5;241;43m=\u001b[39;49m\u001b[43mis_text\u001b[49m\u001b[43m,\u001b[49m\n\u001b[1;32m   1887\u001b[0m \u001b[43m    \u001b[49m\u001b[43merrors\u001b[49m\u001b[38;5;241;43m=\u001b[39;49m\u001b[38;5;28;43mself\u001b[39;49m\u001b[38;5;241;43m.\u001b[39;49m\u001b[43moptions\u001b[49m\u001b[38;5;241;43m.\u001b[39;49m\u001b[43mget\u001b[49m\u001b[43m(\u001b[49m\u001b[38;5;124;43m\"\u001b[39;49m\u001b[38;5;124;43mencoding_errors\u001b[39;49m\u001b[38;5;124;43m\"\u001b[39;49m\u001b[43m,\u001b[49m\u001b[43m \u001b[49m\u001b[38;5;124;43m\"\u001b[39;49m\u001b[38;5;124;43mstrict\u001b[39;49m\u001b[38;5;124;43m\"\u001b[39;49m\u001b[43m)\u001b[49m\u001b[43m,\u001b[49m\n\u001b[1;32m   1888\u001b[0m \u001b[43m    \u001b[49m\u001b[43mstorage_options\u001b[49m\u001b[38;5;241;43m=\u001b[39;49m\u001b[38;5;28;43mself\u001b[39;49m\u001b[38;5;241;43m.\u001b[39;49m\u001b[43moptions\u001b[49m\u001b[38;5;241;43m.\u001b[39;49m\u001b[43mget\u001b[49m\u001b[43m(\u001b[49m\u001b[38;5;124;43m\"\u001b[39;49m\u001b[38;5;124;43mstorage_options\u001b[39;49m\u001b[38;5;124;43m\"\u001b[39;49m\u001b[43m,\u001b[49m\u001b[43m \u001b[49m\u001b[38;5;28;43;01mNone\u001b[39;49;00m\u001b[43m)\u001b[49m\u001b[43m,\u001b[49m\n\u001b[1;32m   1889\u001b[0m \u001b[43m\u001b[49m\u001b[43m)\u001b[49m\n\u001b[1;32m   1890\u001b[0m \u001b[38;5;28;01massert\u001b[39;00m \u001b[38;5;28mself\u001b[39m\u001b[38;5;241m.\u001b[39mhandles \u001b[38;5;129;01mis\u001b[39;00m \u001b[38;5;129;01mnot\u001b[39;00m \u001b[38;5;28;01mNone\u001b[39;00m\n\u001b[1;32m   1891\u001b[0m f \u001b[38;5;241m=\u001b[39m \u001b[38;5;28mself\u001b[39m\u001b[38;5;241m.\u001b[39mhandles\u001b[38;5;241m.\u001b[39mhandle\n",
      "File \u001b[0;32m/Library/Frameworks/Python.framework/Versions/3.13/lib/python3.13/site-packages/pandas/io/common.py:873\u001b[0m, in \u001b[0;36mget_handle\u001b[0;34m(path_or_buf, mode, encoding, compression, memory_map, is_text, errors, storage_options)\u001b[0m\n\u001b[1;32m    868\u001b[0m \u001b[38;5;28;01melif\u001b[39;00m \u001b[38;5;28misinstance\u001b[39m(handle, \u001b[38;5;28mstr\u001b[39m):\n\u001b[1;32m    869\u001b[0m     \u001b[38;5;66;03m# Check whether the filename is to be opened in binary mode.\u001b[39;00m\n\u001b[1;32m    870\u001b[0m     \u001b[38;5;66;03m# Binary mode does not support 'encoding' and 'newline'.\u001b[39;00m\n\u001b[1;32m    871\u001b[0m     \u001b[38;5;28;01mif\u001b[39;00m ioargs\u001b[38;5;241m.\u001b[39mencoding \u001b[38;5;129;01mand\u001b[39;00m \u001b[38;5;124m\"\u001b[39m\u001b[38;5;124mb\u001b[39m\u001b[38;5;124m\"\u001b[39m \u001b[38;5;129;01mnot\u001b[39;00m \u001b[38;5;129;01min\u001b[39;00m ioargs\u001b[38;5;241m.\u001b[39mmode:\n\u001b[1;32m    872\u001b[0m         \u001b[38;5;66;03m# Encoding\u001b[39;00m\n\u001b[0;32m--> 873\u001b[0m         handle \u001b[38;5;241m=\u001b[39m \u001b[38;5;28;43mopen\u001b[39;49m\u001b[43m(\u001b[49m\n\u001b[1;32m    874\u001b[0m \u001b[43m            \u001b[49m\u001b[43mhandle\u001b[49m\u001b[43m,\u001b[49m\n\u001b[1;32m    875\u001b[0m \u001b[43m            \u001b[49m\u001b[43mioargs\u001b[49m\u001b[38;5;241;43m.\u001b[39;49m\u001b[43mmode\u001b[49m\u001b[43m,\u001b[49m\n\u001b[1;32m    876\u001b[0m \u001b[43m            \u001b[49m\u001b[43mencoding\u001b[49m\u001b[38;5;241;43m=\u001b[39;49m\u001b[43mioargs\u001b[49m\u001b[38;5;241;43m.\u001b[39;49m\u001b[43mencoding\u001b[49m\u001b[43m,\u001b[49m\n\u001b[1;32m    877\u001b[0m \u001b[43m            \u001b[49m\u001b[43merrors\u001b[49m\u001b[38;5;241;43m=\u001b[39;49m\u001b[43merrors\u001b[49m\u001b[43m,\u001b[49m\n\u001b[1;32m    878\u001b[0m \u001b[43m            \u001b[49m\u001b[43mnewline\u001b[49m\u001b[38;5;241;43m=\u001b[39;49m\u001b[38;5;124;43m\"\u001b[39;49m\u001b[38;5;124;43m\"\u001b[39;49m\u001b[43m,\u001b[49m\n\u001b[1;32m    879\u001b[0m \u001b[43m        \u001b[49m\u001b[43m)\u001b[49m\n\u001b[1;32m    880\u001b[0m     \u001b[38;5;28;01melse\u001b[39;00m:\n\u001b[1;32m    881\u001b[0m         \u001b[38;5;66;03m# Binary mode\u001b[39;00m\n\u001b[1;32m    882\u001b[0m         handle \u001b[38;5;241m=\u001b[39m \u001b[38;5;28mopen\u001b[39m(handle, ioargs\u001b[38;5;241m.\u001b[39mmode)\n",
      "\u001b[0;31mFileNotFoundError\u001b[0m: [Errno 2] No such file or directory: 'Cambridge.csv'"
     ]
    }
   ],
   "source": [
    "import pandas as pd\n",
    "\n",
    "airbnb = pd.read_csv('Cambridge.csv')\n",
    "airbnb.head()"
   ]
  },
  {
   "cell_type": "code",
   "execution_count": null,
   "metadata": {},
   "outputs": [
    {
     "name": "stdout",
     "output_type": "stream",
     "text": [
      "<class 'pandas.core.frame.DataFrame'>\n",
      "RangeIndex: 1287 entries, 0 to 1286\n",
      "Data columns (total 75 columns):\n",
      " #   Column                                        Non-Null Count  Dtype  \n",
      "---  ------                                        --------------  -----  \n",
      " 0   id                                            1287 non-null   int64  \n",
      " 1   listing_url                                   1287 non-null   object \n",
      " 2   scrape_id                                     1287 non-null   int64  \n",
      " 3   last_scraped                                  1287 non-null   object \n",
      " 4   source                                        1287 non-null   object \n",
      " 5   name                                          1287 non-null   object \n",
      " 6   description                                   1273 non-null   object \n",
      " 7   neighborhood_overview                         737 non-null    object \n",
      " 8   picture_url                                   1287 non-null   object \n",
      " 9   host_id                                       1287 non-null   int64  \n",
      " 10  host_url                                      1287 non-null   object \n",
      " 11  host_name                                     1287 non-null   object \n",
      " 12  host_since                                    1287 non-null   object \n",
      " 13  host_location                                 1036 non-null   object \n",
      " 14  host_about                                    805 non-null    object \n",
      " 15  host_response_time                            1166 non-null   object \n",
      " 16  host_response_rate                            1166 non-null   object \n",
      " 17  host_acceptance_rate                          1205 non-null   object \n",
      " 18  host_is_superhost                             1261 non-null   object \n",
      " 19  host_thumbnail_url                            1287 non-null   object \n",
      " 20  host_picture_url                              1287 non-null   object \n",
      " 21  host_neighbourhood                            1250 non-null   object \n",
      " 22  host_listings_count                           1287 non-null   int64  \n",
      " 23  host_total_listings_count                     1287 non-null   int64  \n",
      " 24  host_verifications                            1287 non-null   object \n",
      " 25  host_has_profile_pic                          1287 non-null   object \n",
      " 26  host_identity_verified                        1287 non-null   object \n",
      " 27  neighbourhood                                 737 non-null    object \n",
      " 28  neighbourhood_cleansed                        1287 non-null   object \n",
      " 29  neighbourhood_group_cleansed                  0 non-null      float64\n",
      " 30  latitude                                      1287 non-null   float64\n",
      " 31  longitude                                     1287 non-null   float64\n",
      " 32  property_type                                 1287 non-null   object \n",
      " 33  room_type                                     1287 non-null   object \n",
      " 34  accommodates                                  1287 non-null   int64  \n",
      " 35  bathrooms                                     945 non-null    float64\n",
      " 36  bathrooms_text                                1287 non-null   object \n",
      " 37  bedrooms                                      1219 non-null   float64\n",
      " 38  beds                                          941 non-null    float64\n",
      " 39  amenities                                     1287 non-null   object \n",
      " 40  price                                         945 non-null    object \n",
      " 41  minimum_nights                                1287 non-null   int64  \n",
      " 42  maximum_nights                                1287 non-null   int64  \n",
      " 43  minimum_minimum_nights                        1287 non-null   int64  \n",
      " 44  maximum_minimum_nights                        1287 non-null   int64  \n",
      " 45  minimum_maximum_nights                        1287 non-null   int64  \n",
      " 46  maximum_maximum_nights                        1287 non-null   int64  \n",
      " 47  minimum_nights_avg_ntm                        1287 non-null   float64\n",
      " 48  maximum_nights_avg_ntm                        1287 non-null   float64\n",
      " 49  calendar_updated                              0 non-null      float64\n",
      " 50  has_availability                              1259 non-null   object \n",
      " 51  availability_30                               1287 non-null   int64  \n",
      " 52  availability_60                               1287 non-null   int64  \n",
      " 53  availability_90                               1287 non-null   int64  \n",
      " 54  availability_365                              1287 non-null   int64  \n",
      " 55  calendar_last_scraped                         1287 non-null   object \n",
      " 56  number_of_reviews                             1287 non-null   int64  \n",
      " 57  number_of_reviews_ltm                         1287 non-null   int64  \n",
      " 58  number_of_reviews_l30d                        1287 non-null   int64  \n",
      " 59  first_review                                  970 non-null    object \n",
      " 60  last_review                                   970 non-null    object \n",
      " 61  review_scores_rating                          970 non-null    float64\n",
      " 62  review_scores_accuracy                        970 non-null    float64\n",
      " 63  review_scores_cleanliness                     970 non-null    float64\n",
      " 64  review_scores_checkin                         970 non-null    float64\n",
      " 65  review_scores_communication                   970 non-null    float64\n",
      " 66  review_scores_location                        970 non-null    float64\n",
      " 67  review_scores_value                           970 non-null    float64\n",
      " 68  license                                       490 non-null    object \n",
      " 69  instant_bookable                              1287 non-null   object \n",
      " 70  calculated_host_listings_count                1287 non-null   int64  \n",
      " 71  calculated_host_listings_count_entire_homes   1287 non-null   int64  \n",
      " 72  calculated_host_listings_count_private_rooms  1287 non-null   int64  \n",
      " 73  calculated_host_listings_count_shared_rooms   1287 non-null   int64  \n",
      " 74  reviews_per_month                             970 non-null    float64\n",
      "dtypes: float64(17), int64(23), object(35)\n",
      "memory usage: 754.2+ KB\n"
     ]
    }
   ],
   "source": [
    "airbnb.info()"
   ]
  },
  {
   "cell_type": "code",
   "execution_count": null,
   "metadata": {},
   "outputs": [
    {
     "name": "stdout",
     "output_type": "stream",
     "text": [
      "        host_id       host_name  host_since host_is_superhost  \\\n",
      "0        306681           Janet  2010-12-01                 t   \n",
      "1         40965        Judith L  2009-09-24                 t   \n",
      "2         74249  Marc And Patty  2010-01-27                 t   \n",
      "3         74249  Marc And Patty  2010-01-27                 t   \n",
      "4        430015           Kevin  2011-03-08                 t   \n",
      "...         ...             ...         ...               ...   \n",
      "1282  373675137            Liya  2020-10-28                 f   \n",
      "1283  373675137            Liya  2020-10-28                 f   \n",
      "1284  373675137            Liya  2020-10-28                 f   \n",
      "1285  145655051           Karen  2017-08-12                 t   \n",
      "1286  373675137            Liya  2020-10-28                 f   \n",
      "\n",
      "      host_listings_count  \n",
      "0                       2  \n",
      "1                       4  \n",
      "2                       3  \n",
      "3                       3  \n",
      "4                       1  \n",
      "...                   ...  \n",
      "1282                  217  \n",
      "1283                  217  \n",
      "1284                  217  \n",
      "1285                    4  \n",
      "1286                  217  \n",
      "\n",
      "[1287 rows x 5 columns]\n",
      "        host_id                   id  \\\n",
      "0        306681                 8521   \n",
      "1         40965                11169   \n",
      "2         74249                19581   \n",
      "3         74249                27498   \n",
      "4        430015                79762   \n",
      "...         ...                  ...   \n",
      "1282  373675137  1313250609203710870   \n",
      "1283  373675137  1313277221998634744   \n",
      "1284  373675137  1313301960513049198   \n",
      "1285  145655051  1314036192803424107   \n",
      "1286  373675137  1316146649117544288   \n",
      "\n",
      "                                                  name  \\\n",
      "0     SunsplashedSerenity walk to Harvard & Fresh Pond   \n",
      "1        Lovely Studio Room: Available for long w/ends   \n",
      "2                             Furnished suite, Windsor   \n",
      "3                      Furnished suite 2 @ the Windsor   \n",
      "4                    Cambridge Getaway @ Harvard & MIT   \n",
      "...                                                ...   \n",
      "1282              Very comfortable 1 bedroom in Boston   \n",
      "1283                     Peacefull 1 bedroom in Boston   \n",
      "1284                   Comfortable 1 Bedroom in Boston   \n",
      "1285                   Private 1 BDR Apt in Harvard sq   \n",
      "1286                       Amazing 1 Bedroom in Boston   \n",
      "\n",
      "                          property_type        room_type    price  \n",
      "0                    Entire rental unit  Entire home/apt      NaN  \n",
      "1                 Private room in condo     Private room      NaN  \n",
      "2     Private room in bed and breakfast     Private room  $172.00  \n",
      "3     Private room in bed and breakfast     Private room  $201.00  \n",
      "4                    Entire rental unit  Entire home/apt  $300.00  \n",
      "...                                 ...              ...      ...  \n",
      "1282        Private room in rental unit     Private room   $61.00  \n",
      "1283        Private room in rental unit     Private room   $44.00  \n",
      "1284        Private room in rental unit     Private room   $46.00  \n",
      "1285                 Entire rental unit  Entire home/apt  $154.00  \n",
      "1286        Private room in rental unit     Private room   $48.00  \n",
      "\n",
      "[1287 rows x 6 columns]\n"
     ]
    }
   ],
   "source": [
    "host = airbnb[['host_id', 'host_name', 'host_since', 'host_is_superhost','host_listings_count']]\n",
    "listings = airbnb[['host_id', 'id', 'name', 'property_type', 'room_type', 'price']]\n",
    "print(host)\n",
    "print(listings)"
   ]
  },
  {
   "cell_type": "code",
   "execution_count": null,
   "metadata": {},
   "outputs": [
    {
     "name": "stdout",
     "output_type": "stream",
     "text": [
      "         host_id host_name  host_since host_is_superhost  host_listings_count  \\\n",
      "0         306681     Janet  2010-12-01                 t                    2   \n",
      "1         306681     Janet  2010-12-01                 t                    2   \n",
      "2          40965  Judith L  2009-09-24                 t                    4   \n",
      "3          40965  Judith L  2009-09-24                 t                    4   \n",
      "4          40965  Judith L  2009-09-24                 t                    4   \n",
      "...          ...       ...         ...               ...                  ...   \n",
      "44064  373675137      Liya  2020-10-28                 f                  217   \n",
      "44065  373675137      Liya  2020-10-28                 f                  217   \n",
      "44066  373675137      Liya  2020-10-28                 f                  217   \n",
      "44067  373675137      Liya  2020-10-28                 f                  217   \n",
      "44068  373675137      Liya  2020-10-28                 f                  217   \n",
      "\n",
      "                        id                                              name  \\\n",
      "0                     8521  SunsplashedSerenity walk to Harvard & Fresh Pond   \n",
      "1                   108898   \"The Treehouse\" :   Elegant living near Harvard   \n",
      "2                    11169     Lovely Studio Room: Available for long w/ends   \n",
      "3                  1080789     Entire Fabulous home: Available occasionally!   \n",
      "4                 17693766                        Grad Student or Professor!   \n",
      "...                    ...                                               ...   \n",
      "44064  1308846162056102099                          Great 1Bedroom in Boston   \n",
      "44065  1313250609203710870              Very comfortable 1 bedroom in Boston   \n",
      "44066  1313277221998634744                     Peacefull 1 bedroom in Boston   \n",
      "44067  1313301960513049198                   Comfortable 1 Bedroom in Boston   \n",
      "44068  1316146649117544288                       Amazing 1 Bedroom in Boston   \n",
      "\n",
      "                     property_type        room_type   price  \n",
      "0               Entire rental unit  Entire home/apt     NaN  \n",
      "1               Entire rental unit  Entire home/apt     NaN  \n",
      "2            Private room in condo     Private room     NaN  \n",
      "3                     Entire condo  Entire home/apt     NaN  \n",
      "4             Private room in home     Private room     NaN  \n",
      "...                            ...              ...     ...  \n",
      "44064  Private room in rental unit     Private room  $46.00  \n",
      "44065  Private room in rental unit     Private room  $61.00  \n",
      "44066  Private room in rental unit     Private room  $44.00  \n",
      "44067  Private room in rental unit     Private room  $46.00  \n",
      "44068  Private room in rental unit     Private room  $48.00  \n",
      "\n",
      "[44069 rows x 10 columns]\n"
     ]
    }
   ],
   "source": [
    "df_host = pd.merge(host, listings, on = 'host_id', how='left')\n",
    "print(df_host)"
   ]
  },
  {
   "cell_type": "code",
   "execution_count": null,
   "metadata": {},
   "outputs": [
    {
     "name": "stdout",
     "output_type": "stream",
     "text": [
      "       host_id                       host_name host_is_superhost   id\n",
      "0        40965                        Judith L                 t    9\n",
      "1        69838                            Mara                 f    1\n",
      "2        74249                  Marc And Patty                 t    9\n",
      "3        81038                          Louisa                 t   81\n",
      "4        87398                             Ari                 f    1\n",
      "..         ...                             ...               ...  ...\n",
      "415  653636057                           Shane                 f   49\n",
      "416  657466767                          Aishat                 f  676\n",
      "417  657804004                          Janesh                 f   16\n",
      "418  661669372                           Belen                 f    1\n",
      "419  666372838  Fairfield Inn Suites Boston Ca                 f    1\n",
      "\n",
      "[420 rows x 4 columns]\n",
      "       host_id                       host_name host_is_superhost  num_listings\n",
      "0        40965                        Judith L                 t             9\n",
      "1        69838                            Mara                 f             1\n",
      "2        74249                  Marc And Patty                 t             9\n",
      "3        81038                          Louisa                 t            81\n",
      "4        87398                             Ari                 f             1\n",
      "..         ...                             ...               ...           ...\n",
      "415  653636057                           Shane                 f            49\n",
      "416  657466767                          Aishat                 f           676\n",
      "417  657804004                          Janesh                 f            16\n",
      "418  661669372                           Belen                 f             1\n",
      "419  666372838  Fairfield Inn Suites Boston Ca                 f             1\n",
      "\n",
      "[420 rows x 4 columns]\n"
     ]
    }
   ],
   "source": [
    "#Contar cuantas propiedades tiene cada host\n",
    "df_host_count = df_host.groupby(['host_id', 'host_name', 'host_is_superhost'])['id'].count().reset_index()\n",
    "print(df_host_count)\n",
    "df_host_count.rename(columns={'id': 'num_listings'}, inplace=True)\n",
    "print(df_host_count)"
   ]
  },
  {
   "cell_type": "markdown",
   "metadata": {},
   "source": [
    "## ¿Cuales son los host mas activos?"
   ]
  },
  {
   "cell_type": "code",
   "execution_count": null,
   "metadata": {},
   "outputs": [
    {
     "name": "stdout",
     "output_type": "stream",
     "text": [
      "       host_id           host_name host_is_superhost  num_listings\n",
      "356  380623623               Sofia                 t           784\n",
      "237   51079261           Riverside                 t           529\n",
      "377  463475392             Haroldo                 t           484\n",
      "160   22541573  Furnished Quarters                 t           441\n",
      "86     7848820                Kris                 t           256\n",
      "153   21631889             Ling Yi                 t           121\n",
      "131   16241860              Isabel                 t           121\n",
      "225   45011296               Lance                 t           100\n",
      "3        81038              Louisa                 t            81\n",
      "328  222601907               Angel                 t            49\n"
     ]
    }
   ],
   "source": [
    "superhosts = df_host_count[df_host_count['host_is_superhost'] == 't']\n",
    "superhosts_sorted = superhosts.sort_values(by= 'num_listings', ascending=False)\n",
    "print(superhosts_sorted.head(10))"
   ]
  },
  {
   "cell_type": "code",
   "execution_count": null,
   "metadata": {},
   "outputs": [
    {
     "name": "stdout",
     "output_type": "stream",
     "text": [
      "342\n"
     ]
    }
   ],
   "source": [
    "nulos = airbnb['price'].isnull().sum()\n",
    "print(nulos)"
   ]
  },
  {
   "cell_type": "code",
   "execution_count": null,
   "metadata": {},
   "outputs": [],
   "source": [
    "airbnb = airbnb.dropna(subset=['price']) #Elimina los datos no los reemplaza\n",
    "\n",
    "airbnb['price'] = airbnb['price'].str.replace(r'[$,]','', regex=True).astype(float) #ELIMINA LOS DATOS NULOS EN 'PRECIO' MAS NO LOS REEMPLAZA"
   ]
  },
  {
   "cell_type": "markdown",
   "metadata": {},
   "source": [
    "## Analisis de precios y tipos de propiedades"
   ]
  },
  {
   "cell_type": "code",
   "execution_count": null,
   "metadata": {},
   "outputs": [
    {
     "name": "stdout",
     "output_type": "stream",
     "text": [
      "                         property_type       price\n",
      "8                     Entire townhouse  477.000000\n",
      "3                          Entire home  390.333333\n",
      "9                         Entire villa  345.000000\n",
      "2                    Entire guesthouse  250.000000\n",
      "7            Entire serviced apartment  236.100000\n",
      "0                         Entire condo  226.527778\n",
      "20                       Room in hotel  222.200000\n",
      "6                   Entire rental unit  209.112245\n",
      "4                          Entire loft  199.666667\n",
      "19              Room in boutique hotel  186.240000\n",
      "1                   Entire guest suite  167.833333\n",
      "13             Private room in cottage  150.000000\n",
      "5                         Entire place  149.000000\n",
      "10   Private room in bed and breakfast  148.866667\n",
      "12               Private room in condo  129.625000\n",
      "17  Private room in serviced apartment  113.000000\n",
      "14         Private room in guest suite  112.000000\n",
      "18           Private room in townhouse  108.933333\n",
      "15                Private room in home   92.466102\n",
      "16         Private room in rental unit   66.138095\n",
      "11     Private room in casa particular   65.000000\n"
     ]
    }
   ],
   "source": [
    "df_price_type = airbnb.groupby('property_type')['price'].mean().reset_index()\n",
    "df_price_type.sort_values(by='price', ascending=False, inplace=True)\n",
    "print(df_price_type)"
   ]
  },
  {
   "cell_type": "markdown",
   "metadata": {},
   "source": [
    "¿Cual es el barrio mas grande?"
   ]
  },
  {
   "cell_type": "code",
   "execution_count": null,
   "metadata": {},
   "outputs": [
    {
     "name": "stdout",
     "output_type": "stream",
     "text": [
      "   neighbourhood_cleansed       price\n",
      "1              Area 2/MIT  269.310345\n",
      "8               Riverside  216.213115\n",
      "12         West Cambridge  204.192308\n",
      "3           Cambridgeport  194.339623\n",
      "4          East Cambridge  182.743455\n",
      "10               The Port  181.976000\n",
      "5           Mid-Cambridge  177.523077\n",
      "2     Cambridge Highlands  175.500000\n",
      "9         Strawberry Hill  159.350000\n",
      "11  Wellington-Harrington  146.082192\n",
      "7         North Cambridge  116.366667\n",
      "6       Neighborhood Nine  112.089286\n",
      "0                 Agassiz   80.560606\n"
     ]
    }
   ],
   "source": [
    "df_price_neigh = airbnb.groupby('neighbourhood_cleansed')['price'].mean().reset_index()\n",
    "df_price_neigh.sort_values(by= 'price', ascending=False, inplace=True)\n",
    "print(df_price_neigh)"
   ]
  }
 ],
 "metadata": {
  "kernelspec": {
   "display_name": "Python 3",
   "language": "python",
   "name": "python3"
  },
  "language_info": {
   "codemirror_mode": {
    "name": "ipython",
    "version": 3
   },
   "file_extension": ".py",
   "mimetype": "text/x-python",
   "name": "python",
   "nbconvert_exporter": "python",
   "pygments_lexer": "ipython3",
   "version": "3.13.2"
  }
 },
 "nbformat": 4,
 "nbformat_minor": 2
}
