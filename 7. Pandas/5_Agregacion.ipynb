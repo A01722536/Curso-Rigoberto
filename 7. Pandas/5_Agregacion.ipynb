{
 "cells": [
  {
   "cell_type": "code",
   "execution_count": 13,
   "metadata": {},
   "outputs": [],
   "source": [
    "import pandas as pd"
   ]
  },
  {
   "cell_type": "code",
   "execution_count": null,
   "metadata": {},
   "outputs": [
    {
     "name": "stdout",
     "output_type": "stream",
     "text": [
      "Cread DataFrame: \n",
      "      Brawler  Llegada       País  Estrellas        Rol\n",
      "0       Hank     2022  Nicaragua          5     Tanque\n",
      "1      Berry     2022   Portugal          4      Apoyo\n",
      "2     Jessie     2017  Australia          2       Daño\n",
      "3     Maisie     2022      China          3  TiroLargo\n",
      "4  Cordelius     2022   Alemania          4    Asesino\n",
      "5      Amber     2020     México          3    Control\n"
     ]
    }
   ],
   "source": [
    "Brawl={\n",
    "\"Brawler\": [\"Hank\", \"Berry\", \"Jessie\", \"Maisie\", \"Cordelius\", \"Amber\"],\n",
    "\"Llegada\": [2022, 2022, 2017, 2022, 2022, 2020],\n",
    "\"País\": [\"Nicaragua\", \"Portugal\", \"Australia\", \"China\", \"Alemania\", \"México\"],\n",
    "\"Estrellas\": [5, 4, 2, 3, 4, 3],\n",
    "\"Rol\": [\"Tanque\", \"Apoyo\", \"Daño\", \"TiroLargo\", \"Asesino\", \"Control\"]\n",
    "}\n",
    "\n",
    "Brawl = pd.DataFrame(Brawl)\n",
    "print(\"Crear DataFrame: \\n\",Brawl)"
   ]
  },
  {
   "cell_type": "code",
   "execution_count": 15,
   "metadata": {},
   "outputs": [
    {
     "data": {
      "text/plain": [
       "Llegada      12125\n",
       "Estrellas       21\n",
       "dtype: int64"
      ]
     },
     "execution_count": 15,
     "metadata": {},
     "output_type": "execute_result"
    }
   ],
   "source": [
    "result = Brawl[[\"Llegada\",\"Estrellas\"]].agg(\"sum\")\n",
    "result"
   ]
  },
  {
   "cell_type": "code",
   "execution_count": 16,
   "metadata": {},
   "outputs": [
    {
     "data": {
      "text/plain": [
       "sum       12125.000000\n",
       "mean       2020.833333\n",
       "median     2022.000000\n",
       "max        2022.000000\n",
       "min        2017.000000\n",
       "Name: Llegada, dtype: float64"
      ]
     },
     "execution_count": 16,
     "metadata": {},
     "output_type": "execute_result"
    }
   ],
   "source": [
    "sumary_stats=Brawl[\"Llegada\"].agg([\"sum\",\"mean\",\"median\",\"max\",\"min\"])\n",
    "sumary_stats"
   ]
  },
  {
   "cell_type": "code",
   "execution_count": 17,
   "metadata": {},
   "outputs": [],
   "source": [
    "def calculate_range(x):\n",
    "    return x.max() - x.min()"
   ]
  },
  {
   "cell_type": "code",
   "execution_count": 18,
   "metadata": {},
   "outputs": [
    {
     "data": {
      "text/plain": [
       "np.int64(3)"
      ]
     },
     "execution_count": 18,
     "metadata": {},
     "output_type": "execute_result"
    }
   ],
   "source": [
    "range_quantity = Brawl[\"Estrellas\"].agg(calculate_range)\n",
    "range_quantity"
   ]
  },
  {
   "cell_type": "code",
   "execution_count": 19,
   "metadata": {},
   "outputs": [
    {
     "data": {
      "text/plain": [
       "Estrellas      21.000000\n",
       "Llegada      2020.833333\n",
       "dtype: float64"
      ]
     },
     "execution_count": 19,
     "metadata": {},
     "output_type": "execute_result"
    }
   ],
   "source": [
    "agg_results=Brawl.agg({\"Estrellas\": \"sum\", \"Llegada\": \"mean\"})\n",
    "agg_results"
   ]
  },
  {
   "cell_type": "code",
   "execution_count": 22,
   "metadata": {},
   "outputs": [
    {
     "data": {
      "text/html": [
       "<div>\n",
       "<style scoped>\n",
       "    .dataframe tbody tr th:only-of-type {\n",
       "        vertical-align: middle;\n",
       "    }\n",
       "\n",
       "    .dataframe tbody tr th {\n",
       "        vertical-align: top;\n",
       "    }\n",
       "\n",
       "    .dataframe thead th {\n",
       "        text-align: right;\n",
       "    }\n",
       "</style>\n",
       "<table border=\"1\" class=\"dataframe\">\n",
       "  <thead>\n",
       "    <tr style=\"text-align: right;\">\n",
       "      <th></th>\n",
       "      <th>Llegada</th>\n",
       "      <th>País</th>\n",
       "      <th>Estrellas</th>\n",
       "      <th>Rol</th>\n",
       "    </tr>\n",
       "    <tr>\n",
       "      <th>Brawler</th>\n",
       "      <th></th>\n",
       "      <th></th>\n",
       "      <th></th>\n",
       "      <th></th>\n",
       "    </tr>\n",
       "  </thead>\n",
       "  <tbody>\n",
       "    <tr>\n",
       "      <th>Amber</th>\n",
       "      <td>2020</td>\n",
       "      <td>México</td>\n",
       "      <td>3</td>\n",
       "      <td>Control</td>\n",
       "    </tr>\n",
       "    <tr>\n",
       "      <th>Berry</th>\n",
       "      <td>2022</td>\n",
       "      <td>Portugal</td>\n",
       "      <td>4</td>\n",
       "      <td>Apoyo</td>\n",
       "    </tr>\n",
       "    <tr>\n",
       "      <th>Cordelius</th>\n",
       "      <td>2022</td>\n",
       "      <td>Alemania</td>\n",
       "      <td>4</td>\n",
       "      <td>Asesino</td>\n",
       "    </tr>\n",
       "    <tr>\n",
       "      <th>Hank</th>\n",
       "      <td>2022</td>\n",
       "      <td>Nicaragua</td>\n",
       "      <td>5</td>\n",
       "      <td>Tanque</td>\n",
       "    </tr>\n",
       "    <tr>\n",
       "      <th>Jessie</th>\n",
       "      <td>2017</td>\n",
       "      <td>Australia</td>\n",
       "      <td>2</td>\n",
       "      <td>Daño</td>\n",
       "    </tr>\n",
       "    <tr>\n",
       "      <th>Maisie</th>\n",
       "      <td>2022</td>\n",
       "      <td>China</td>\n",
       "      <td>3</td>\n",
       "      <td>TiroLargo</td>\n",
       "    </tr>\n",
       "  </tbody>\n",
       "</table>\n",
       "</div>"
      ],
      "text/plain": [
       "           Llegada       País  Estrellas        Rol\n",
       "Brawler                                            \n",
       "Amber         2020     México          3    Control\n",
       "Berry         2022   Portugal          4      Apoyo\n",
       "Cordelius     2022   Alemania          4    Asesino\n",
       "Hank          2022  Nicaragua          5     Tanque\n",
       "Jessie        2017  Australia          2       Daño\n",
       "Maisie        2022      China          3  TiroLargo"
      ]
     },
     "execution_count": 22,
     "metadata": {},
     "output_type": "execute_result"
    }
   ],
   "source": [
    "result=Brawl.groupby([\"Brawler\"]).sum()\n",
    "result"
   ]
  },
  {
   "cell_type": "code",
   "execution_count": 23,
   "metadata": {},
   "outputs": [
    {
     "data": {
      "text/html": [
       "<div>\n",
       "<style scoped>\n",
       "    .dataframe tbody tr th:only-of-type {\n",
       "        vertical-align: middle;\n",
       "    }\n",
       "\n",
       "    .dataframe tbody tr th {\n",
       "        vertical-align: top;\n",
       "    }\n",
       "\n",
       "    .dataframe thead tr th {\n",
       "        text-align: left;\n",
       "    }\n",
       "\n",
       "    .dataframe thead tr:last-of-type th {\n",
       "        text-align: right;\n",
       "    }\n",
       "</style>\n",
       "<table border=\"1\" class=\"dataframe\">\n",
       "  <thead>\n",
       "    <tr>\n",
       "      <th></th>\n",
       "      <th colspan=\"2\" halign=\"left\">Llegada</th>\n",
       "      <th colspan=\"2\" halign=\"left\">Estrellas</th>\n",
       "    </tr>\n",
       "    <tr>\n",
       "      <th></th>\n",
       "      <th>min</th>\n",
       "      <th>max</th>\n",
       "      <th>min</th>\n",
       "      <th>max</th>\n",
       "    </tr>\n",
       "    <tr>\n",
       "      <th>Brawler</th>\n",
       "      <th></th>\n",
       "      <th></th>\n",
       "      <th></th>\n",
       "      <th></th>\n",
       "    </tr>\n",
       "  </thead>\n",
       "  <tbody>\n",
       "    <tr>\n",
       "      <th>Amber</th>\n",
       "      <td>2020</td>\n",
       "      <td>2020</td>\n",
       "      <td>3</td>\n",
       "      <td>3</td>\n",
       "    </tr>\n",
       "    <tr>\n",
       "      <th>Berry</th>\n",
       "      <td>2022</td>\n",
       "      <td>2022</td>\n",
       "      <td>4</td>\n",
       "      <td>4</td>\n",
       "    </tr>\n",
       "    <tr>\n",
       "      <th>Cordelius</th>\n",
       "      <td>2022</td>\n",
       "      <td>2022</td>\n",
       "      <td>4</td>\n",
       "      <td>4</td>\n",
       "    </tr>\n",
       "    <tr>\n",
       "      <th>Hank</th>\n",
       "      <td>2022</td>\n",
       "      <td>2022</td>\n",
       "      <td>5</td>\n",
       "      <td>5</td>\n",
       "    </tr>\n",
       "    <tr>\n",
       "      <th>Jessie</th>\n",
       "      <td>2017</td>\n",
       "      <td>2017</td>\n",
       "      <td>2</td>\n",
       "      <td>2</td>\n",
       "    </tr>\n",
       "    <tr>\n",
       "      <th>Maisie</th>\n",
       "      <td>2022</td>\n",
       "      <td>2022</td>\n",
       "      <td>3</td>\n",
       "      <td>3</td>\n",
       "    </tr>\n",
       "  </tbody>\n",
       "</table>\n",
       "</div>"
      ],
      "text/plain": [
       "          Llegada       Estrellas    \n",
       "              min   max       min max\n",
       "Brawler                              \n",
       "Amber        2020  2020         3   3\n",
       "Berry        2022  2022         4   4\n",
       "Cordelius    2022  2022         4   4\n",
       "Hank         2022  2022         5   5\n",
       "Jessie       2017  2017         2   2\n",
       "Maisie       2022  2022         3   3"
      ]
     },
     "execution_count": 23,
     "metadata": {},
     "output_type": "execute_result"
    }
   ],
   "source": [
    "result=Brawl.groupby([\"Brawler\"])[[\"Llegada\",\"Estrellas\"]].agg([\"min\",\"max\"])\n",
    "result"
   ]
  }
 ],
 "metadata": {
  "kernelspec": {
   "display_name": "Python 3",
   "language": "python",
   "name": "python3"
  },
  "language_info": {
   "codemirror_mode": {
    "name": "ipython",
    "version": 3
   },
   "file_extension": ".py",
   "mimetype": "text/x-python",
   "name": "python",
   "nbconvert_exporter": "python",
   "pygments_lexer": "ipython3",
   "version": "3.13.2"
  }
 },
 "nbformat": 4,
 "nbformat_minor": 2
}
