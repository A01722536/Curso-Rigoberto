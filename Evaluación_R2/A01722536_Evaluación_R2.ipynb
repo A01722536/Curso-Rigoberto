{
 "cells": [
  {
   "cell_type": "code",
   "execution_count": 1,
   "metadata": {},
   "outputs": [],
   "source": [
    "import pandas as pd\n",
    "import re"
   ]
  },
  {
   "cell_type": "code",
   "execution_count": 2,
   "metadata": {},
   "outputs": [
    {
     "data": {
      "text/html": [
       "<div>\n",
       "<style scoped>\n",
       "    .dataframe tbody tr th:only-of-type {\n",
       "        vertical-align: middle;\n",
       "    }\n",
       "\n",
       "    .dataframe tbody tr th {\n",
       "        vertical-align: top;\n",
       "    }\n",
       "\n",
       "    .dataframe thead th {\n",
       "        text-align: right;\n",
       "    }\n",
       "</style>\n",
       "<table border=\"1\" class=\"dataframe\">\n",
       "  <thead>\n",
       "    <tr style=\"text-align: right;\">\n",
       "      <th></th>\n",
       "      <th>ID_Venta</th>\n",
       "      <th>Fecha</th>\n",
       "      <th>Categoria</th>\n",
       "      <th>Producto</th>\n",
       "      <th>Cantidad</th>\n",
       "      <th>Precio_Unitario</th>\n",
       "      <th>Tienda</th>\n",
       "    </tr>\n",
       "  </thead>\n",
       "  <tbody>\n",
       "    <tr>\n",
       "      <th>0</th>\n",
       "      <td>1</td>\n",
       "      <td>2024-01-15</td>\n",
       "      <td>Deportes</td>\n",
       "      <td>Patines</td>\n",
       "      <td>3</td>\n",
       "      <td>1145</td>\n",
       "      <td>Tijuana</td>\n",
       "    </tr>\n",
       "    <tr>\n",
       "      <th>1</th>\n",
       "      <td>2</td>\n",
       "      <td>2024-03-23</td>\n",
       "      <td>Juguetes</td>\n",
       "      <td>Carro</td>\n",
       "      <td>3</td>\n",
       "      <td>380</td>\n",
       "      <td>MTY</td>\n",
       "    </tr>\n",
       "    <tr>\n",
       "      <th>2</th>\n",
       "      <td>3</td>\n",
       "      <td>2024-01-24</td>\n",
       "      <td>Juguetes</td>\n",
       "      <td>Lego</td>\n",
       "      <td>3</td>\n",
       "      <td>1735</td>\n",
       "      <td>Tijuana</td>\n",
       "    </tr>\n",
       "    <tr>\n",
       "      <th>3</th>\n",
       "      <td>4</td>\n",
       "      <td>2024-01-30</td>\n",
       "      <td>Ropa</td>\n",
       "      <td>Sudadera</td>\n",
       "      <td>2</td>\n",
       "      <td>435</td>\n",
       "      <td>Puebla</td>\n",
       "    </tr>\n",
       "    <tr>\n",
       "      <th>4</th>\n",
       "      <td>5</td>\n",
       "      <td>2024-03-16</td>\n",
       "      <td>Juguetes</td>\n",
       "      <td>Muñeca</td>\n",
       "      <td>2</td>\n",
       "      <td>71</td>\n",
       "      <td>Tijuana</td>\n",
       "    </tr>\n",
       "  </tbody>\n",
       "</table>\n",
       "</div>"
      ],
      "text/plain": [
       "   ID_Venta       Fecha Categoria  Producto  Cantidad  Precio_Unitario  \\\n",
       "0         1  2024-01-15  Deportes   Patines         3             1145   \n",
       "1         2  2024-03-23  Juguetes     Carro         3              380   \n",
       "2         3  2024-01-24  Juguetes      Lego         3             1735   \n",
       "3         4  2024-01-30      Ropa  Sudadera         2              435   \n",
       "4         5  2024-03-16  Juguetes    Muñeca         2               71   \n",
       "\n",
       "    Tienda  \n",
       "0  Tijuana  \n",
       "1      MTY  \n",
       "2  Tijuana  \n",
       "3   Puebla  \n",
       "4  Tijuana  "
      ]
     },
     "execution_count": 2,
     "metadata": {},
     "output_type": "execute_result"
    }
   ],
   "source": [
    "veti=pd.read_csv(\"ventas_tienda.csv\")\n",
    "veti.head(5)\n"
   ]
  },
  {
   "cell_type": "code",
   "execution_count": 3,
   "metadata": {},
   "outputs": [
    {
     "data": {
      "text/html": [
       "<div>\n",
       "<style scoped>\n",
       "    .dataframe tbody tr th:only-of-type {\n",
       "        vertical-align: middle;\n",
       "    }\n",
       "\n",
       "    .dataframe tbody tr th {\n",
       "        vertical-align: top;\n",
       "    }\n",
       "\n",
       "    .dataframe thead th {\n",
       "        text-align: right;\n",
       "    }\n",
       "</style>\n",
       "<table border=\"1\" class=\"dataframe\">\n",
       "  <thead>\n",
       "    <tr style=\"text-align: right;\">\n",
       "      <th></th>\n",
       "      <th>ID_Venta</th>\n",
       "      <th>Fecha</th>\n",
       "      <th>Categoria</th>\n",
       "      <th>Producto</th>\n",
       "      <th>Cantidad</th>\n",
       "      <th>Precio_Unitario</th>\n",
       "      <th>Tienda</th>\n",
       "      <th>TotalVenta</th>\n",
       "    </tr>\n",
       "  </thead>\n",
       "  <tbody>\n",
       "    <tr>\n",
       "      <th>0</th>\n",
       "      <td>1</td>\n",
       "      <td>2024-01-15</td>\n",
       "      <td>Deportes</td>\n",
       "      <td>Patines</td>\n",
       "      <td>3</td>\n",
       "      <td>1145</td>\n",
       "      <td>Tijuana</td>\n",
       "      <td>3435</td>\n",
       "    </tr>\n",
       "    <tr>\n",
       "      <th>1</th>\n",
       "      <td>2</td>\n",
       "      <td>2024-03-23</td>\n",
       "      <td>Juguetes</td>\n",
       "      <td>Carro</td>\n",
       "      <td>3</td>\n",
       "      <td>380</td>\n",
       "      <td>MTY</td>\n",
       "      <td>1140</td>\n",
       "    </tr>\n",
       "    <tr>\n",
       "      <th>2</th>\n",
       "      <td>3</td>\n",
       "      <td>2024-01-24</td>\n",
       "      <td>Juguetes</td>\n",
       "      <td>Lego</td>\n",
       "      <td>3</td>\n",
       "      <td>1735</td>\n",
       "      <td>Tijuana</td>\n",
       "      <td>5205</td>\n",
       "    </tr>\n",
       "    <tr>\n",
       "      <th>3</th>\n",
       "      <td>4</td>\n",
       "      <td>2024-01-30</td>\n",
       "      <td>Ropa</td>\n",
       "      <td>Sudadera</td>\n",
       "      <td>2</td>\n",
       "      <td>435</td>\n",
       "      <td>Puebla</td>\n",
       "      <td>870</td>\n",
       "    </tr>\n",
       "    <tr>\n",
       "      <th>4</th>\n",
       "      <td>5</td>\n",
       "      <td>2024-03-16</td>\n",
       "      <td>Juguetes</td>\n",
       "      <td>Muñeca</td>\n",
       "      <td>2</td>\n",
       "      <td>71</td>\n",
       "      <td>Tijuana</td>\n",
       "      <td>142</td>\n",
       "    </tr>\n",
       "    <tr>\n",
       "      <th>...</th>\n",
       "      <td>...</td>\n",
       "      <td>...</td>\n",
       "      <td>...</td>\n",
       "      <td>...</td>\n",
       "      <td>...</td>\n",
       "      <td>...</td>\n",
       "      <td>...</td>\n",
       "      <td>...</td>\n",
       "    </tr>\n",
       "    <tr>\n",
       "      <th>95</th>\n",
       "      <td>96</td>\n",
       "      <td>2024-02-05</td>\n",
       "      <td>Electrónica</td>\n",
       "      <td>Smartwatch</td>\n",
       "      <td>2</td>\n",
       "      <td>1942</td>\n",
       "      <td>CDMX</td>\n",
       "      <td>3884</td>\n",
       "    </tr>\n",
       "    <tr>\n",
       "      <th>96</th>\n",
       "      <td>97</td>\n",
       "      <td>2024-02-05</td>\n",
       "      <td>Hogar</td>\n",
       "      <td>Lámpara</td>\n",
       "      <td>2</td>\n",
       "      <td>1058</td>\n",
       "      <td>Tijuana</td>\n",
       "      <td>2116</td>\n",
       "    </tr>\n",
       "    <tr>\n",
       "      <th>97</th>\n",
       "      <td>98</td>\n",
       "      <td>2024-02-24</td>\n",
       "      <td>Deportes</td>\n",
       "      <td>Balón</td>\n",
       "      <td>1</td>\n",
       "      <td>328</td>\n",
       "      <td>CDMX</td>\n",
       "      <td>328</td>\n",
       "    </tr>\n",
       "    <tr>\n",
       "      <th>98</th>\n",
       "      <td>99</td>\n",
       "      <td>2024-01-30</td>\n",
       "      <td>Hogar</td>\n",
       "      <td>Lámpara</td>\n",
       "      <td>1</td>\n",
       "      <td>1954</td>\n",
       "      <td>Puebla</td>\n",
       "      <td>1954</td>\n",
       "    </tr>\n",
       "    <tr>\n",
       "      <th>99</th>\n",
       "      <td>100</td>\n",
       "      <td>2024-02-28</td>\n",
       "      <td>Electrónica</td>\n",
       "      <td>Smartwatch</td>\n",
       "      <td>3</td>\n",
       "      <td>226</td>\n",
       "      <td>Puebla</td>\n",
       "      <td>678</td>\n",
       "    </tr>\n",
       "  </tbody>\n",
       "</table>\n",
       "<p>100 rows × 8 columns</p>\n",
       "</div>"
      ],
      "text/plain": [
       "    ID_Venta       Fecha    Categoria    Producto  Cantidad  Precio_Unitario  \\\n",
       "0          1  2024-01-15     Deportes     Patines         3             1145   \n",
       "1          2  2024-03-23     Juguetes       Carro         3              380   \n",
       "2          3  2024-01-24     Juguetes        Lego         3             1735   \n",
       "3          4  2024-01-30         Ropa    Sudadera         2              435   \n",
       "4          5  2024-03-16     Juguetes      Muñeca         2               71   \n",
       "..       ...         ...          ...         ...       ...              ...   \n",
       "95        96  2024-02-05  Electrónica  Smartwatch         2             1942   \n",
       "96        97  2024-02-05        Hogar     Lámpara         2             1058   \n",
       "97        98  2024-02-24     Deportes       Balón         1              328   \n",
       "98        99  2024-01-30        Hogar     Lámpara         1             1954   \n",
       "99       100  2024-02-28  Electrónica  Smartwatch         3              226   \n",
       "\n",
       "     Tienda  TotalVenta  \n",
       "0   Tijuana        3435  \n",
       "1       MTY        1140  \n",
       "2   Tijuana        5205  \n",
       "3    Puebla         870  \n",
       "4   Tijuana         142  \n",
       "..      ...         ...  \n",
       "95     CDMX        3884  \n",
       "96  Tijuana        2116  \n",
       "97     CDMX         328  \n",
       "98   Puebla        1954  \n",
       "99   Puebla         678  \n",
       "\n",
       "[100 rows x 8 columns]"
      ]
     },
     "execution_count": 3,
     "metadata": {},
     "output_type": "execute_result"
    }
   ],
   "source": [
    "veti[\"TotalVenta\"]=veti[\"Cantidad\"]*veti[\"Precio_Unitario\"]\n",
    "veti"
   ]
  },
  {
   "cell_type": "code",
   "execution_count": 4,
   "metadata": {},
   "outputs": [
    {
     "data": {
      "text/plain": [
       "Categoria\n",
       "Deportes       51153\n",
       "Electrónica    39057\n",
       "Hogar          54622\n",
       "Juguetes       48445\n",
       "Ropa           46742\n",
       "Name: TotalVenta, dtype: int64"
      ]
     },
     "execution_count": 4,
     "metadata": {},
     "output_type": "execute_result"
    }
   ],
   "source": [
    "total_por_cate = veti.groupby(\"Categoria\")[\"TotalVenta\"].sum()\n",
    "total_por_cate"
   ]
  },
  {
   "cell_type": "code",
   "execution_count": 5,
   "metadata": {},
   "outputs": [
    {
     "name": "stdout",
     "output_type": "stream",
     "text": [
      "Tienda con más ventas: CDMX\n"
     ]
    }
   ],
   "source": [
    "tienda_max_ventas = veti.groupby(\"Tienda\")[\"Cantidad\"].sum().idxmax()\n",
    "print(\"Tienda con más ventas:\", tienda_max_ventas)"
   ]
  },
  {
   "cell_type": "code",
   "execution_count": 6,
   "metadata": {},
   "outputs": [
    {
     "name": "stdout",
     "output_type": "stream",
     "text": [
      "Producto más vendido: Audífonos\n"
     ]
    }
   ],
   "source": [
    "producto_max = veti.groupby(\"Producto\")[\"Cantidad\"].sum().idxmax()\n",
    "print(\"Producto más vendido:\", producto_max)"
   ]
  },
  {
   "cell_type": "code",
   "execution_count": 12,
   "metadata": {},
   "outputs": [
    {
     "name": "stdout",
     "output_type": "stream",
     "text": [
      "Mes con mayor ingreso: 2024-03-09 00:00:00\n"
     ]
    }
   ],
   "source": [
    "veti[\"Fecha\"] = pd.to_datetime(veti[\"Fecha\"])\n",
    "ingresos_por_mes = veti.groupby(\"Fecha\")[\"TotalVenta\"].sum()\n",
    "mes_max_ingreso = ingresos_por_mes.idxmax()\n",
    "print(\"Mes con mayor ingreso:\", mes_max_ingreso)"
   ]
  },
  {
   "cell_type": "code",
   "execution_count": null,
   "metadata": {},
   "outputs": [
    {
     "name": "stdout",
     "output_type": "stream",
     "text": [
      "\n",
      "Juan Pérez - juanperez@gmail.com - +52 222 123 4567\n",
      "María López - maria123@yahoo.com - +52 555 987 6543\n",
      "Carlos Ramírez - carlos@trabajo.com.mx - +1 212 555 1234\n",
      "Texto adicional sin información útil.\n",
      "Pedro Gómez - pedro@empresa.org\n",
      "email_invalido@sin_dominio\n",
      "+44 20 7946 0958\n",
      "Luis Torres - luistorres@empresa.co - +52 123 987 6540\n",
      "Calle Falsa 123\n",
      "contacto@dominio.com - +1 800 555 1234\n",
      "Claudia García - claudia_garcia@correo.org - +34 123 456 789\n",
      "1234 Avenida Principal\n",
      "info@empresa.com\n",
      "Texto sin formato adecuado.\n",
      "Juanita Medina - juanita.medina@hotmail.com - +52 55 9876 5432\n",
      "Juan Carlos - jcm@personal.org - +1 987 654 3210\n",
      "Texto aleatorio que no sigue el formato.\n",
      "rosario@dominio.co.uk - +49 30 123456\n",
      "diana@gmail..com\n",
      "Texto@invalido - +33 1 42 68 53 00\n",
      "contacto@soporte.es - +34 654 321 987\n",
      "francisco@mail.co - +54 11 4321 8765\n",
      "Usuario sin información útil.\n",
      "mariana.123@dominio.cl - +56 9 1234 5678\n",
      "...\n",
      "\n",
      "\n"
     ]
    }
   ],
   "source": [
    "with open(\"correos.txt\", \"r\", encoding=\"utf-8\") as archivo:\n",
    "    correos = archivo.read()\n",
    "    print(correos)"
   ]
  },
  {
   "cell_type": "code",
   "execution_count": null,
   "metadata": {},
   "outputs": [
    {
     "name": "stdout",
     "output_type": "stream",
     "text": [
      "Correos válidos: []\n",
      "Números válidos: ['+52 222 123 4567', '+52 555 987 6543', '+52 123 987 6540']\n"
     ]
    }
   ],
   "source": [
    "patron_c=r\"\\w@\\w\\.\\w\"\n",
    "coincidencias_c=re.findall(patron_c,correos)\n",
    "print(\"Correos válidos:\",coincidencias_c)\n",
    "patron_n=r\"\\+\\d{2} \\d{3} \\d{3} \\d{4}\"\n",
    "coincidencias_n=re.findall(patron_n,correos)\n",
    "print(\"Números válidos:\",coincidencias_n)"
   ]
  },
  {
   "cell_type": "code",
   "execution_count": null,
   "metadata": {},
   "outputs": [
    {
     "name": "stdout",
     "output_type": "stream",
     "text": [
      "Total de correos válidos: 0\n",
      "Total de números válidos: 3\n"
     ]
    }
   ],
   "source": [
    "total_c=len(coincidencias_c)\n",
    "print(\"Total de correos válidos:\", total_c)\n",
    "total_n=len(coincidencias_n)\n",
    "print(\"Total de números válidos:\", total_n)"
   ]
  }
 ],
 "metadata": {
  "kernelspec": {
   "display_name": "Python 3",
   "language": "python",
   "name": "python3"
  },
  "language_info": {
   "codemirror_mode": {
    "name": "ipython",
    "version": 3
   },
   "file_extension": ".py",
   "mimetype": "text/x-python",
   "name": "python",
   "nbconvert_exporter": "python",
   "pygments_lexer": "ipython3",
   "version": "3.13.2"
  }
 },
 "nbformat": 4,
 "nbformat_minor": 2
}
